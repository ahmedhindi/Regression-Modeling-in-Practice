{
 "cells": [
  {
   "cell_type": "markdown",
   "metadata": {},
   "source": [
    "## 1- sample description "
   ]
  },
  {
   "cell_type": "markdown",
   "metadata": {},
   "source": [
    "\n",
    "**a) the study population **\n",
    "\n",
    "\n",
    "- represented the civilian, non-institutionalized adult population of the United States, and\n",
    "included persons living in households, military personnel living off base, and persons\n",
    "residing in the following group quarters: boarding or rooming houses, non-transient hotels\n",
    "and motels, shelters, facilities for housing workers, college quarters, and group homes. The\n",
    "NESARC included over sampling of Blacks, Hispanics and young adults aged 18 to 24 years.\n",
    "\n",
    "**b) Report the level of analysis studied**\n",
    "\n",
    "- individual civilian non-institutionalized adult population of the United States\n",
    "\n",
    "**c) the number of observations **\n",
    "\n",
    "- N=43,093\n",
    "\n"
   ]
  },
  {
   "cell_type": "markdown",
   "metadata": {},
   "source": [
    "## 2-data collection"
   ]
  },
  {
   "cell_type": "markdown",
   "metadata": {},
   "source": [
    "**a) the study design that generated that data**\n",
    "\n",
    "- NESARC data is the resulte of A [longitudinal](https://en.wikipedia.org/wiki/Longitudinal_study) study that involves repeated observations of the same variables (e.g., people) over long periods of time, often many decades (i.e., uses longitudinal data). It is often a type of observational study Which considered to be  a ***Quasi-experimental research design***\n",
    "\n",
    " \n",
    "**b) the original purpose of the data collection.**\n",
    "\n",
    "- to study Alcohol Use Disorder and Associated Disabilities \n",
    "- collected information on alcohol and drug use and disorders, related   risk factors, and associated physical and mental disabilities.\n",
    "\n",
    "**c) how, when and were the data were collected and  the data  collected and  were collected.**\n",
    "\n",
    "- Data were collected by trained U.S. Census Bureau Field Representatives during 2001–\n",
    "- 2002 through computer-assisted personal interviews (CAPI). One adult was selected for\n",
    "- interview in each household, and interviews were conducted in respondents’ homes"
   ]
  },
  {
   "cell_type": "markdown",
   "metadata": {},
   "source": [
    "## 3- Describing the variables."
   ]
  },
  {
   "cell_type": "markdown",
   "metadata": {},
   "source": [
    "\n",
    "1). **ethnicity** (*explanatory*)\n",
    "- categorical variable takes 4 levels \n",
    "- it takes the following values (black,white,Hespanich,asian) \n",
    "\n",
    "- data management done for this variable is the reduction of four (Black, Hispanic, white, Asian)columns in the original data set to one column  called ‘ethnicity’\n",
    "\n",
    "2). **income** (*response*)\n",
    "\n",
    "- numerical variables 0-3000000 us dollars\n",
    "- data management done for this variable is converting it to numerical \n",
    "\n",
    "3). **age** (*response*)\n",
    "\n",
    "- numerical variable takes the values 18-97  in years\n",
    "- it takes 98 for 98 years or older\n",
    "- data management done for this variable is converting it to numerical "
   ]
  }
 ],
 "metadata": {
  "anaconda-cloud": {},
  "kernelspec": {
   "display_name": "Python [default]",
   "language": "python",
   "name": "python3"
  },
  "language_info": {
   "codemirror_mode": {
    "name": "ipython",
    "version": 3
   },
   "file_extension": ".py",
   "mimetype": "text/x-python",
   "name": "python",
   "nbconvert_exporter": "python",
   "pygments_lexer": "ipython3",
   "version": "3.5.2"
  }
 },
 "nbformat": 4,
 "nbformat_minor": 0
}
