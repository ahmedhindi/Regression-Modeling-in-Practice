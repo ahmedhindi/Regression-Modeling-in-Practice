{
 "cells": [
  {
   "cell_type": "code",
   "execution_count": 22,
   "metadata": {
    "collapsed": true
   },
   "outputs": [],
   "source": [
    "import pandas as pd\n",
    "import numpy as np\n",
    "import matplotlib.pyplot as plt\n",
    "import seaborn\n",
    "import statsmodels.formula.api as smf"
   ]
  },
  {
   "cell_type": "code",
   "execution_count": 51,
   "metadata": {
    "collapsed": true
   },
   "outputs": [],
   "source": [
    "col_map = {'AGE':'age','S1Q10A':'income','S1Q1D2':'asian',\n",
    "           'S1Q10A':'income','S1Q6A':'edu','S1Q1D3':'black',\n",
    "           'S1Q1D5':'white','S1Q1C':'hispanich'}\n",
    "col_names = [x for x in col_map.keys()]"
   ]
  },
  {
   "cell_type": "code",
   "execution_count": 52,
   "metadata": {
    "collapsed": true
   },
   "outputs": [],
   "source": [
    "#read data\n",
    "data = pd.read_csv('/home/data-sci/Desktop/analysis/course/nesarc_pds.csv',\n",
    "                   usecols=col_names)"
   ]
  },
  {
   "cell_type": "code",
   "execution_count": 53,
   "metadata": {
    "collapsed": false
   },
   "outputs": [
    {
     "data": {
      "text/html": [
       "<div>\n",
       "<table border=\"1\" class=\"dataframe\">\n",
       "  <thead>\n",
       "    <tr style=\"text-align: right;\">\n",
       "      <th></th>\n",
       "      <th>age</th>\n",
       "      <th>hispanich</th>\n",
       "      <th>asian</th>\n",
       "      <th>black</th>\n",
       "      <th>white</th>\n",
       "      <th>edu</th>\n",
       "      <th>income</th>\n",
       "    </tr>\n",
       "  </thead>\n",
       "  <tbody>\n",
       "    <tr>\n",
       "      <th>0</th>\n",
       "      <td>23</td>\n",
       "      <td>1</td>\n",
       "      <td>2</td>\n",
       "      <td>2</td>\n",
       "      <td>1</td>\n",
       "      <td>8</td>\n",
       "      <td>17500</td>\n",
       "    </tr>\n",
       "    <tr>\n",
       "      <th>1</th>\n",
       "      <td>28</td>\n",
       "      <td>1</td>\n",
       "      <td>2</td>\n",
       "      <td>2</td>\n",
       "      <td>1</td>\n",
       "      <td>8</td>\n",
       "      <td>11000</td>\n",
       "    </tr>\n",
       "    <tr>\n",
       "      <th>2</th>\n",
       "      <td>81</td>\n",
       "      <td>1</td>\n",
       "      <td>2</td>\n",
       "      <td>2</td>\n",
       "      <td>1</td>\n",
       "      <td>6</td>\n",
       "      <td>6000</td>\n",
       "    </tr>\n",
       "    <tr>\n",
       "      <th>3</th>\n",
       "      <td>18</td>\n",
       "      <td>1</td>\n",
       "      <td>2</td>\n",
       "      <td>2</td>\n",
       "      <td>1</td>\n",
       "      <td>8</td>\n",
       "      <td>27000</td>\n",
       "    </tr>\n",
       "    <tr>\n",
       "      <th>4</th>\n",
       "      <td>36</td>\n",
       "      <td>2</td>\n",
       "      <td>2</td>\n",
       "      <td>1</td>\n",
       "      <td>2</td>\n",
       "      <td>12</td>\n",
       "      <td>42000</td>\n",
       "    </tr>\n",
       "  </tbody>\n",
       "</table>\n",
       "</div>"
      ],
      "text/plain": [
       "   age  hispanich  asian  black  white  edu  income\n",
       "0   23          1      2      2      1    8   17500\n",
       "1   28          1      2      2      1    8   11000\n",
       "2   81          1      2      2      1    6    6000\n",
       "3   18          1      2      2      1    8   27000\n",
       "4   36          2      2      1      2   12   42000"
      ]
     },
     "execution_count": 53,
     "metadata": {},
     "output_type": "execute_result"
    }
   ],
   "source": [
    "#renaming the columns\n",
    "data.rename(columns=col_map,inplace=True)\n",
    "data.head()"
   ]
  },
  {
   "cell_type": "code",
   "execution_count": 54,
   "metadata": {
    "collapsed": false
   },
   "outputs": [],
   "source": [
    "# reducing ethnicity to one column\n",
    "def ethnicity(row):\n",
    "    if row['white'] == 1:\n",
    "        return int(1)\n",
    "    if row['black'] == 1:\n",
    "        return int(0)\n",
    "    else:\n",
    "        return int(2)\n",
    "\n",
    "data['ethnicity'] = data.apply(lambda row: ethnicity(row), axis=1)\n",
    "#reducing education to two values (for the purposes of this assignment)\n",
    "def education(row):\n",
    "    if row['edu'] < 10:\n",
    "        return int(0)\n",
    "    else:\n",
    "        return int(1)\n",
    "data['edu'] = data.apply(lambda row:education(row),axis=1)\n",
    "#droing unwanted columns\n",
    "data.drop(labels=['hispanich','asian','black','white'],inplace=True,axis=1)\n"
   ]
  },
  {
   "cell_type": "code",
   "execution_count": 55,
   "metadata": {
    "collapsed": false
   },
   "outputs": [],
   "source": [
    "data = data[(data['ethnicity'] == 1) | (data['ethnicity'] == 0)]"
   ]
  },
  {
   "cell_type": "code",
   "execution_count": 56,
   "metadata": {
    "collapsed": false
   },
   "outputs": [
    {
     "data": {
      "text/plain": [
       "<matplotlib.axes._subplots.AxesSubplot at 0x7fd678aa7518>"
      ]
     },
     "execution_count": 56,
     "metadata": {},
     "output_type": "execute_result"
    },
    {
     "data": {
      "image/png": "[encoded data removed]",
      "text/plain": [
       "<matplotlib.figure.Figure at 0x7fd678aa9748>"
      ]
     },
     "metadata": {},
     "output_type": "display_data"
    }
   ],
   "source": [
    "%matplotlib inline\n",
    "sub = data.groupby(['ethnicity'])\n",
    "sub = sub[['ethnicity','income']].mean()\n",
    "#sub.reset_index(inplace=True)\n",
    "seaborn.barplot(x=sub['ethnicity'],y=sub['income'],orient='v')"
   ]
  },
  {
   "cell_type": "markdown",
   "metadata": {},
   "source": [
    "## The coloration between income and ethnicity "
   ]
  },
  {
   "cell_type": "code",
   "execution_count": 57,
   "metadata": {
    "collapsed": false
   },
   "outputs": [
    {
     "data": {
      "text/html": [
       "<table class=\"simpletable\">\n",
       "<caption>OLS Regression Results</caption>\n",
       "<tr>\n",
       "  <th>Dep. Variable:</th>         <td>income</td>      <th>  R-squared:         </th>  <td>   0.004</td>  \n",
       "</tr>\n",
       "<tr>\n",
       "  <th>Model:</th>                   <td>OLS</td>       <th>  Adj. R-squared:    </th>  <td>   0.004</td>  \n",
       "</tr>\n",
       "<tr>\n",
       "  <th>Method:</th>             <td>Least Squares</td>  <th>  F-statistic:       </th>  <td>   183.3</td>  \n",
       "</tr>\n",
       "<tr>\n",
       "  <th>Date:</th>             <td>Wed, 07 Dec 2016</td> <th>  Prob (F-statistic):</th>  <td>1.11e-41</td>  \n",
       "</tr>\n",
       "<tr>\n",
       "  <th>Time:</th>                 <td>09:25:05</td>     <th>  Log-Likelihood:    </th> <td>-4.9681e+05</td>\n",
       "</tr>\n",
       "<tr>\n",
       "  <th>No. Observations:</th>      <td> 41192</td>      <th>  AIC:               </th>  <td>9.936e+05</td> \n",
       "</tr>\n",
       "<tr>\n",
       "  <th>Df Residuals:</th>          <td> 41190</td>      <th>  BIC:               </th>  <td>9.936e+05</td> \n",
       "</tr>\n",
       "<tr>\n",
       "  <th>Df Model:</th>              <td>     1</td>      <th>                     </th>      <td> </td>     \n",
       "</tr>\n",
       "<tr>\n",
       "  <th>Covariance Type:</th>      <td>nonrobust</td>    <th>                     </th>      <td> </td>     \n",
       "</tr>\n",
       "</table>\n",
       "<table class=\"simpletable\">\n",
       "<tr>\n",
       "      <td></td>         <th>coef</th>     <th>std err</th>      <th>t</th>      <th>P>|t|</th> <th>[95.0% Conf. Int.]</th> \n",
       "</tr>\n",
       "<tr>\n",
       "  <th>Intercept</th> <td> 2.257e+04</td> <td>  456.553</td> <td>   49.447</td> <td> 0.000</td> <td> 2.17e+04  2.35e+04</td>\n",
       "</tr>\n",
       "<tr>\n",
       "  <th>ethnicity</th> <td> 6928.7335</td> <td>  511.722</td> <td>   13.540</td> <td> 0.000</td> <td> 5925.748  7931.719</td>\n",
       "</tr>\n",
       "</table>\n",
       "<table class=\"simpletable\">\n",
       "<tr>\n",
       "  <th>Omnibus:</th>       <td>89924.157</td> <th>  Durbin-Watson:     </th>    <td>   1.990</td>   \n",
       "</tr>\n",
       "<tr>\n",
       "  <th>Prob(Omnibus):</th>  <td> 0.000</td>   <th>  Jarque-Bera (JB):  </th> <td>1352530525.150</td>\n",
       "</tr>\n",
       "<tr>\n",
       "  <th>Skew:</th>           <td>19.426</td>   <th>  Prob(JB):          </th>    <td>    0.00</td>   \n",
       "</tr>\n",
       "<tr>\n",
       "  <th>Kurtosis:</th>       <td>889.863</td>  <th>  Cond. No.          </th>    <td>    4.22</td>   \n",
       "</tr>\n",
       "</table>"
      ],
      "text/plain": [
       "<class 'statsmodels.iolib.summary.Summary'>\n",
       "\"\"\"\n",
       "                            OLS Regression Results                            \n",
       "==============================================================================\n",
       "Dep. Variable:                 income   R-squared:                       0.004\n",
       "Model:                            OLS   Adj. R-squared:                  0.004\n",
       "Method:                 Least Squares   F-statistic:                     183.3\n",
       "Date:                Wed, 07 Dec 2016   Prob (F-statistic):           1.11e-41\n",
       "Time:                        09:25:05   Log-Likelihood:            -4.9681e+05\n",
       "No. Observations:               41192   AIC:                         9.936e+05\n",
       "Df Residuals:                   41190   BIC:                         9.936e+05\n",
       "Df Model:                           1                                         \n",
       "Covariance Type:            nonrobust                                         \n",
       "==============================================================================\n",
       "                 coef    std err          t      P>|t|      [95.0% Conf. Int.]\n",
       "------------------------------------------------------------------------------\n",
       "Intercept   2.257e+04    456.553     49.447      0.000      2.17e+04  2.35e+04\n",
       "ethnicity   6928.7335    511.722     13.540      0.000      5925.748  7931.719\n",
       "==============================================================================\n",
       "Omnibus:                    89924.157   Durbin-Watson:                   1.990\n",
       "Prob(Omnibus):                  0.000   Jarque-Bera (JB):       1352530525.150\n",
       "Skew:                          19.426   Prob(JB):                         0.00\n",
       "Kurtosis:                     889.863   Cond. No.                         4.22\n",
       "==============================================================================\n",
       "\n",
       "Warnings:\n",
       "[1] Standard Errors assume that the covariance matrix of the errors is correctly specified.\n",
       "\"\"\""
      ]
     },
     "execution_count": 57,
     "metadata": {},
     "output_type": "execute_result"
    }
   ],
   "source": [
    "reg1 = smf.ols('income ~ ethnicity', data=data).fit()\n",
    "reg1.summary()"
   ]
  },
  {
   "cell_type": "markdown",
   "metadata": {},
   "source": [
    "#### ***there is a statistically significant relationship between ethnicity and income ***"
   ]
  },
  {
   "cell_type": "code",
   "execution_count": 58,
   "metadata": {
    "collapsed": false
   },
   "outputs": [],
   "source": [
    "#Centering the age variable \n",
    "data['age'] = data['age']-data['age'].mean()"
   ]
  },
  {
   "cell_type": "code",
   "execution_count": 59,
   "metadata": {
    "collapsed": false
   },
   "outputs": [
    {
     "name": "stdout",
     "output_type": "stream",
     "text": [
      "0.5239609632938435\n",
      "-1.3400005948939742e-13\n"
     ]
    }
   ],
   "source": [
    "print(data.edu.mean())\n",
    "print(data.age.mean())"
   ]
  },
  {
   "cell_type": "markdown",
   "metadata": {},
   "source": [
    "### The coloration between income and ethnicity after controling for education and age "
   ]
  },
  {
   "cell_type": "code",
   "execution_count": 60,
   "metadata": {
    "collapsed": false
   },
   "outputs": [
    {
     "data": {
      "text/html": [
       "<table class=\"simpletable\">\n",
       "<caption>OLS Regression Results</caption>\n",
       "<tr>\n",
       "  <th>Dep. Variable:</th>         <td>income</td>      <th>  R-squared:         </th>  <td>   0.058</td>  \n",
       "</tr>\n",
       "<tr>\n",
       "  <th>Model:</th>                   <td>OLS</td>       <th>  Adj. R-squared:    </th>  <td>   0.058</td>  \n",
       "</tr>\n",
       "<tr>\n",
       "  <th>Method:</th>             <td>Least Squares</td>  <th>  F-statistic:       </th>  <td>   850.2</td>  \n",
       "</tr>\n",
       "<tr>\n",
       "  <th>Date:</th>             <td>Wed, 07 Dec 2016</td> <th>  Prob (F-statistic):</th>   <td>  0.00</td>   \n",
       "</tr>\n",
       "<tr>\n",
       "  <th>Time:</th>                 <td>09:25:27</td>     <th>  Log-Likelihood:    </th> <td>-4.9566e+05</td>\n",
       "</tr>\n",
       "<tr>\n",
       "  <th>No. Observations:</th>      <td> 41192</td>      <th>  AIC:               </th>  <td>9.913e+05</td> \n",
       "</tr>\n",
       "<tr>\n",
       "  <th>Df Residuals:</th>          <td> 41188</td>      <th>  BIC:               </th>  <td>9.914e+05</td> \n",
       "</tr>\n",
       "<tr>\n",
       "  <th>Df Model:</th>              <td>     3</td>      <th>                     </th>      <td> </td>     \n",
       "</tr>\n",
       "<tr>\n",
       "  <th>Covariance Type:</th>      <td>nonrobust</td>    <th>                     </th>      <td> </td>     \n",
       "</tr>\n",
       "</table>\n",
       "<table class=\"simpletable\">\n",
       "<tr>\n",
       "      <td></td>         <th>coef</th>     <th>std err</th>      <th>t</th>      <th>P>|t|</th> <th>[95.0% Conf. Int.]</th> \n",
       "</tr>\n",
       "<tr>\n",
       "  <th>Intercept</th> <td> 1.354e+04</td> <td>  482.041</td> <td>   28.092</td> <td> 0.000</td> <td> 1.26e+04  1.45e+04</td>\n",
       "</tr>\n",
       "<tr>\n",
       "  <th>ethnicity</th> <td> 5338.9373</td> <td>  498.903</td> <td>   10.701</td> <td> 0.000</td> <td> 4361.076  6316.799</td>\n",
       "</tr>\n",
       "<tr>\n",
       "  <th>edu</th>       <td> 1.966e+04</td> <td>  405.845</td> <td>   48.432</td> <td> 0.000</td> <td> 1.89e+04  2.05e+04</td>\n",
       "</tr>\n",
       "<tr>\n",
       "  <th>age</th>       <td>  107.9787</td> <td>   11.103</td> <td>    9.725</td> <td> 0.000</td> <td>   86.216   129.741</td>\n",
       "</tr>\n",
       "</table>\n",
       "<table class=\"simpletable\">\n",
       "<tr>\n",
       "  <th>Omnibus:</th>       <td>92510.419</td> <th>  Durbin-Watson:     </th>    <td>   1.994</td>   \n",
       "</tr>\n",
       "<tr>\n",
       "  <th>Prob(Omnibus):</th>  <td> 0.000</td>   <th>  Jarque-Bera (JB):  </th> <td>1686039785.898</td>\n",
       "</tr>\n",
       "<tr>\n",
       "  <th>Skew:</th>           <td>20.769</td>   <th>  Prob(JB):          </th>    <td>    0.00</td>   \n",
       "</tr>\n",
       "<tr>\n",
       "  <th>Kurtosis:</th>       <td>993.265</td>  <th>  Cond. No.          </th>    <td>    60.2</td>   \n",
       "</tr>\n",
       "</table>"
      ],
      "text/plain": [
       "<class 'statsmodels.iolib.summary.Summary'>\n",
       "\"\"\"\n",
       "                            OLS Regression Results                            \n",
       "==============================================================================\n",
       "Dep. Variable:                 income   R-squared:                       0.058\n",
       "Model:                            OLS   Adj. R-squared:                  0.058\n",
       "Method:                 Least Squares   F-statistic:                     850.2\n",
       "Date:                Wed, 07 Dec 2016   Prob (F-statistic):               0.00\n",
       "Time:                        09:25:27   Log-Likelihood:            -4.9566e+05\n",
       "No. Observations:               41192   AIC:                         9.913e+05\n",
       "Df Residuals:                   41188   BIC:                         9.914e+05\n",
       "Df Model:                           3                                         \n",
       "Covariance Type:            nonrobust                                         \n",
       "==============================================================================\n",
       "                 coef    std err          t      P>|t|      [95.0% Conf. Int.]\n",
       "------------------------------------------------------------------------------\n",
       "Intercept   1.354e+04    482.041     28.092      0.000      1.26e+04  1.45e+04\n",
       "ethnicity   5338.9373    498.903     10.701      0.000      4361.076  6316.799\n",
       "edu         1.966e+04    405.845     48.432      0.000      1.89e+04  2.05e+04\n",
       "age          107.9787     11.103      9.725      0.000        86.216   129.741\n",
       "==============================================================================\n",
       "Omnibus:                    92510.419   Durbin-Watson:                   1.994\n",
       "Prob(Omnibus):                  0.000   Jarque-Bera (JB):       1686039785.898\n",
       "Skew:                          20.769   Prob(JB):                         0.00\n",
       "Kurtosis:                     993.265   Cond. No.                         60.2\n",
       "==============================================================================\n",
       "\n",
       "Warnings:\n",
       "[1] Standard Errors assume that the covariance matrix of the errors is correctly specified.\n",
       "\"\"\""
      ]
     },
     "execution_count": 60,
     "metadata": {},
     "output_type": "execute_result"
    }
   ],
   "source": [
    "reg2 = smf.ols('income ~ ethnicity + edu + age', data=data).fit()\n",
    "reg2.summary()"
   ]
  },
  {
   "cell_type": "markdown",
   "metadata": {},
   "source": [
    "#### ***even after controlling for the potential confounder there's still a statistically significant coloration between the response and explanatory variable *** "
   ]
  }
 ],
 "metadata": {
  "anaconda-cloud": {},
  "kernelspec": {
   "display_name": "Python [default]",
   "language": "python",
   "name": "python3"
  },
  "language_info": {
   "codemirror_mode": {
    "name": "ipython",
    "version": 3
   },
   "file_extension": ".py",
   "mimetype": "text/x-python",
   "name": "python",
   "nbconvert_exporter": "python",
   "pygments_lexer": "ipython3",
   "version": "3.5.2"
  }
 },
 "nbformat": 4,
 "nbformat_minor": 0
}
